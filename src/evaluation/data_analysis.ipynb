{
 "cells": [
  {
   "cell_type": "code",
   "execution_count": 6,
   "id": "initial_id",
   "metadata": {
    "collapsed": true,
    "ExecuteTime": {
     "end_time": "2024-05-23T12:23:44.399410100Z",
     "start_time": "2024-05-23T12:23:44.373987200Z"
    }
   },
   "outputs": [],
   "source": [
    "import pandas as pd\n",
    "from src.utils.constant import DATA_DIR\n",
    "\n",
    "model_name = 'gpt-4o'\n",
    "task_name = 'llm_finder'"
   ]
  },
  {
   "cell_type": "code",
   "execution_count": 8,
   "outputs": [],
   "source": [
    "llm_record = pd.read_csv(DATA_DIR / model_name / (task_name+'.csv'))"
   ],
   "metadata": {
    "collapsed": false,
    "ExecuteTime": {
     "end_time": "2024-05-23T12:23:50.211463300Z",
     "start_time": "2024-05-23T12:23:50.135143200Z"
    }
   },
   "id": "a792180427d60166"
  },
  {
   "cell_type": "code",
   "execution_count": 10,
   "outputs": [],
   "source": [
    "robot_state_record = pd.read_csv(DATA_DIR / (task_name+'.csv'))"
   ],
   "metadata": {
    "collapsed": false,
    "ExecuteTime": {
     "end_time": "2024-05-23T12:24:47.691886200Z",
     "start_time": "2024-05-23T12:24:47.647782200Z"
    }
   },
   "id": "8d5146d0a1bf4eb0"
  },
  {
   "cell_type": "code",
   "execution_count": 12,
   "outputs": [
    {
     "data": {
      "text/plain": "   experiment_time   task_name model_name  \\\n0                0  llm_finder     gpt-4o   \n\n                                 situation_awareness  \\\n0  The robot is currently stationary. The front c...   \n\n                                         action_list  \n0  [{'speed': 50, 'angspeed': 15, 'duration': 5, ...  ",
      "text/html": "<div>\n<style scoped>\n    .dataframe tbody tr th:only-of-type {\n        vertical-align: middle;\n    }\n\n    .dataframe tbody tr th {\n        vertical-align: top;\n    }\n\n    .dataframe thead th {\n        text-align: right;\n    }\n</style>\n<table border=\"1\" class=\"dataframe\">\n  <thead>\n    <tr style=\"text-align: right;\">\n      <th></th>\n      <th>experiment_time</th>\n      <th>task_name</th>\n      <th>model_name</th>\n      <th>situation_awareness</th>\n      <th>action_list</th>\n    </tr>\n  </thead>\n  <tbody>\n    <tr>\n      <th>0</th>\n      <td>0</td>\n      <td>llm_finder</td>\n      <td>gpt-4o</td>\n      <td>The robot is currently stationary. The front c...</td>\n      <td>[{'speed': 50, 'angspeed': 15, 'duration': 5, ...</td>\n    </tr>\n  </tbody>\n</table>\n</div>"
     },
     "execution_count": 12,
     "metadata": {},
     "output_type": "execute_result"
    }
   ],
   "source": [
    "llm_record"
   ],
   "metadata": {
    "collapsed": false,
    "ExecuteTime": {
     "end_time": "2024-05-23T12:27:32.292531900Z",
     "start_time": "2024-05-23T12:27:32.244166600Z"
    }
   },
   "id": "891f26d4c287ed7"
  },
  {
   "cell_type": "code",
   "execution_count": 14,
   "outputs": [
    {
     "data": {
      "text/plain": "\"[{'speed': 50, 'angspeed': 15, 'duration': 5, 'explanation': 'Move forward and slightly turn right to align with the red can.'}, {'speed': 100, 'angspeed': 0, 'duration': 10, 'explanation': 'Move forward towards the red can.'}, {'speed': 50, 'angspeed': 0, 'duration': 3, 'explanation': 'Slow down as it gets closer to the red can and stops approximately 200mm away from it.'}]\""
     },
     "execution_count": 14,
     "metadata": {},
     "output_type": "execute_result"
    }
   ],
   "source": [
    "llm_record.loc[0]['action_list']"
   ],
   "metadata": {
    "collapsed": false,
    "ExecuteTime": {
     "end_time": "2024-05-23T12:27:52.578226900Z",
     "start_time": "2024-05-23T12:27:52.544399600Z"
    }
   },
   "id": "a07ccef9105247c7"
  },
  {
   "cell_type": "code",
   "execution_count": null,
   "outputs": [],
   "source": [],
   "metadata": {
    "collapsed": false
   },
   "id": "b432064067c52076"
  }
 ],
 "metadata": {
  "kernelspec": {
   "display_name": "Python 3",
   "language": "python",
   "name": "python3"
  },
  "language_info": {
   "codemirror_mode": {
    "name": "ipython",
    "version": 2
   },
   "file_extension": ".py",
   "mimetype": "text/x-python",
   "name": "python",
   "nbconvert_exporter": "python",
   "pygments_lexer": "ipython2",
   "version": "2.7.6"
  }
 },
 "nbformat": 4,
 "nbformat_minor": 5
}
