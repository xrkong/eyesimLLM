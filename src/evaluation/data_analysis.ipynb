{
 "cells": [
  {
   "cell_type": "code",
   "execution_count": 53,
   "id": "initial_id",
   "metadata": {
    "collapsed": true,
    "ExecuteTime": {
     "end_time": "2024-06-10T03:29:25.609807600Z",
     "start_time": "2024-06-10T03:29:25.425985Z"
    }
   },
   "outputs": [],
   "source": [
    "import pandas as pd\n",
    "from src.utils.constant import DATA_DIR\n",
    "\n",
    "task_name = 'finder_obs'"
   ]
  },
  {
   "cell_type": "code",
   "execution_count": 54,
   "outputs": [],
   "source": [
    "llm_action_record = pd.read_csv(DATA_DIR / task_name / 'llm_action_record.csv')"
   ],
   "metadata": {
    "collapsed": false,
    "ExecuteTime": {
     "end_time": "2024-06-10T03:29:25.643034400Z",
     "start_time": "2024-06-10T03:29:25.498145100Z"
    }
   },
   "id": "a792180427d60166"
  },
  {
   "cell_type": "code",
   "execution_count": 55,
   "outputs": [],
   "source": [
    "llm_reasoning_record = pd.read_csv(DATA_DIR / task_name / 'llm_reasoning_record.csv')"
   ],
   "metadata": {
    "collapsed": false,
    "ExecuteTime": {
     "end_time": "2024-06-10T03:29:25.643034400Z",
     "start_time": "2024-06-10T03:29:25.519793600Z"
    }
   },
   "id": "325a26f2d8a62b81"
  },
  {
   "cell_type": "code",
   "execution_count": 56,
   "outputs": [],
   "source": [
    "robot_state_record = pd.read_csv(DATA_DIR / task_name / 'robot_state.csv')"
   ],
   "metadata": {
    "collapsed": false,
    "ExecuteTime": {
     "end_time": "2024-06-10T03:29:25.645165500Z",
     "start_time": "2024-06-10T03:29:25.537654Z"
    }
   },
   "id": "8d5146d0a1bf4eb0"
  },
  {
   "cell_type": "code",
   "execution_count": 57,
   "outputs": [
    {
     "data": {
      "text/plain": "   experiment_time    action direction  distance  angle  safe  executed  \\\n0                0      turn     right         0     30  True      True   \n1                1  straight   forward       200      0  True      True   \n2                2      turn      left         0     20  True      True   \n3                3  straight   forward       150      0  True      True   \n4                4      turn     right         0     15  True      True   \n5                5  straight   forward       200      0  True      True   \n6                6  straight   forward       150      0  True      True   \n7                7  straight   forward        50      0  True      True   \n8                8  straight   forward        50      0  True      True   \n9                9  straight   forward        50      0  True      True   \n\n                          pos_before                          pos_after  \n0         {'x': 0, 'y': 0, 'phi': 0}       {'x': 0, 'y': 0, 'phi': -29}  \n1       {'x': 0, 'y': 0, 'phi': -29}   {'x': 178, 'y': -97, 'phi': -29}  \n2   {'x': 178, 'y': -97, 'phi': -29}    {'x': 177, 'y': -97, 'phi': -6}  \n3    {'x': 177, 'y': -97, 'phi': -6}   {'x': 328, 'y': -112, 'phi': -6}  \n4   {'x': 328, 'y': -112, 'phi': -6}  {'x': 327, 'y': -112, 'phi': -19}  \n5  {'x': 327, 'y': -112, 'phi': -19}  {'x': 519, 'y': -176, 'phi': -19}  \n6  {'x': 519, 'y': -176, 'phi': -19}  {'x': 663, 'y': -224, 'phi': -18}  \n7  {'x': 663, 'y': -224, 'phi': -18}  {'x': 711, 'y': -240, 'phi': -18}  \n8  {'x': 711, 'y': -240, 'phi': -18}  {'x': 759, 'y': -256, 'phi': -18}  \n9  {'x': 759, 'y': -256, 'phi': -18}  {'x': 807, 'y': -272, 'phi': -19}  ",
      "text/html": "<div>\n<style scoped>\n    .dataframe tbody tr th:only-of-type {\n        vertical-align: middle;\n    }\n\n    .dataframe tbody tr th {\n        vertical-align: top;\n    }\n\n    .dataframe thead th {\n        text-align: right;\n    }\n</style>\n<table border=\"1\" class=\"dataframe\">\n  <thead>\n    <tr style=\"text-align: right;\">\n      <th></th>\n      <th>experiment_time</th>\n      <th>action</th>\n      <th>direction</th>\n      <th>distance</th>\n      <th>angle</th>\n      <th>safe</th>\n      <th>executed</th>\n      <th>pos_before</th>\n      <th>pos_after</th>\n    </tr>\n  </thead>\n  <tbody>\n    <tr>\n      <th>0</th>\n      <td>0</td>\n      <td>turn</td>\n      <td>right</td>\n      <td>0</td>\n      <td>30</td>\n      <td>True</td>\n      <td>True</td>\n      <td>{'x': 0, 'y': 0, 'phi': 0}</td>\n      <td>{'x': 0, 'y': 0, 'phi': -29}</td>\n    </tr>\n    <tr>\n      <th>1</th>\n      <td>1</td>\n      <td>straight</td>\n      <td>forward</td>\n      <td>200</td>\n      <td>0</td>\n      <td>True</td>\n      <td>True</td>\n      <td>{'x': 0, 'y': 0, 'phi': -29}</td>\n      <td>{'x': 178, 'y': -97, 'phi': -29}</td>\n    </tr>\n    <tr>\n      <th>2</th>\n      <td>2</td>\n      <td>turn</td>\n      <td>left</td>\n      <td>0</td>\n      <td>20</td>\n      <td>True</td>\n      <td>True</td>\n      <td>{'x': 178, 'y': -97, 'phi': -29}</td>\n      <td>{'x': 177, 'y': -97, 'phi': -6}</td>\n    </tr>\n    <tr>\n      <th>3</th>\n      <td>3</td>\n      <td>straight</td>\n      <td>forward</td>\n      <td>150</td>\n      <td>0</td>\n      <td>True</td>\n      <td>True</td>\n      <td>{'x': 177, 'y': -97, 'phi': -6}</td>\n      <td>{'x': 328, 'y': -112, 'phi': -6}</td>\n    </tr>\n    <tr>\n      <th>4</th>\n      <td>4</td>\n      <td>turn</td>\n      <td>right</td>\n      <td>0</td>\n      <td>15</td>\n      <td>True</td>\n      <td>True</td>\n      <td>{'x': 328, 'y': -112, 'phi': -6}</td>\n      <td>{'x': 327, 'y': -112, 'phi': -19}</td>\n    </tr>\n    <tr>\n      <th>5</th>\n      <td>5</td>\n      <td>straight</td>\n      <td>forward</td>\n      <td>200</td>\n      <td>0</td>\n      <td>True</td>\n      <td>True</td>\n      <td>{'x': 327, 'y': -112, 'phi': -19}</td>\n      <td>{'x': 519, 'y': -176, 'phi': -19}</td>\n    </tr>\n    <tr>\n      <th>6</th>\n      <td>6</td>\n      <td>straight</td>\n      <td>forward</td>\n      <td>150</td>\n      <td>0</td>\n      <td>True</td>\n      <td>True</td>\n      <td>{'x': 519, 'y': -176, 'phi': -19}</td>\n      <td>{'x': 663, 'y': -224, 'phi': -18}</td>\n    </tr>\n    <tr>\n      <th>7</th>\n      <td>7</td>\n      <td>straight</td>\n      <td>forward</td>\n      <td>50</td>\n      <td>0</td>\n      <td>True</td>\n      <td>True</td>\n      <td>{'x': 663, 'y': -224, 'phi': -18}</td>\n      <td>{'x': 711, 'y': -240, 'phi': -18}</td>\n    </tr>\n    <tr>\n      <th>8</th>\n      <td>8</td>\n      <td>straight</td>\n      <td>forward</td>\n      <td>50</td>\n      <td>0</td>\n      <td>True</td>\n      <td>True</td>\n      <td>{'x': 711, 'y': -240, 'phi': -18}</td>\n      <td>{'x': 759, 'y': -256, 'phi': -18}</td>\n    </tr>\n    <tr>\n      <th>9</th>\n      <td>9</td>\n      <td>straight</td>\n      <td>forward</td>\n      <td>50</td>\n      <td>0</td>\n      <td>True</td>\n      <td>True</td>\n      <td>{'x': 759, 'y': -256, 'phi': -18}</td>\n      <td>{'x': 807, 'y': -272, 'phi': -19}</td>\n    </tr>\n  </tbody>\n</table>\n</div>"
     },
     "execution_count": 57,
     "metadata": {},
     "output_type": "execute_result"
    }
   ],
   "source": [
    "llm_action_record"
   ],
   "metadata": {
    "collapsed": false,
    "ExecuteTime": {
     "end_time": "2024-06-10T03:29:25.645165500Z",
     "start_time": "2024-06-10T03:29:25.571570Z"
    }
   },
   "id": "891f26d4c287ed7"
  },
  {
   "cell_type": "code",
   "execution_count": 58,
   "outputs": [
    {
     "data": {
      "text/plain": "   experiment_time       task_name model_name  \\\n0                0  finder_crate_3     gpt-4o   \n1                2  finder_crate_3     gpt-4o   \n2                4  finder_crate_3     gpt-4o   \n3                6  finder_crate_3     gpt-4o   \n4                8  finder_crate_3     gpt-4o   \n5               10  finder_crate_3     gpt-4o   \n\n                                          perception  \\\n0  The robot is at position (0,0) with orientatio...   \n1  The robot is currently positioned at x: 178, y...   \n2  The robot's current position is (x: 328, y: -1...   \n3  The robot is currently positioned at (x: 519, ...   \n4  The robot is positioned at (x: 711, y: -240, p...   \n5  The current position of the robot is (x: 807, ...   \n\n                                            planning  \\\n0  To approach the crate safely, the robot must f...   \n1  From the current perception, the crate is appr...   \n2  To approach the crate, the robot should procee...   \n3  To safely approach the crate, the robot needs ...   \n4  The crate appears to be directly ahead within ...   \n5  Since the crate is directly in front of the ro...   \n\n                                             control  \n0  [{'action': 'turn', 'angle': 30, 'direction': ...  \n1  [{'action': 'turn', 'angle': 20, 'direction': ...  \n2  [{'action': 'turn', 'angle': 15, 'direction': ...  \n3  [{'action': 'straight', 'distance': 150, 'dire...  \n4  [{'action': 'straight', 'distance': 50, 'direc...  \n5  [{'action': 'straight', 'distance': 200, 'dire...  ",
      "text/html": "<div>\n<style scoped>\n    .dataframe tbody tr th:only-of-type {\n        vertical-align: middle;\n    }\n\n    .dataframe tbody tr th {\n        vertical-align: top;\n    }\n\n    .dataframe thead th {\n        text-align: right;\n    }\n</style>\n<table border=\"1\" class=\"dataframe\">\n  <thead>\n    <tr style=\"text-align: right;\">\n      <th></th>\n      <th>experiment_time</th>\n      <th>task_name</th>\n      <th>model_name</th>\n      <th>perception</th>\n      <th>planning</th>\n      <th>control</th>\n    </tr>\n  </thead>\n  <tbody>\n    <tr>\n      <th>0</th>\n      <td>0</td>\n      <td>finder_crate_3</td>\n      <td>gpt-4o</td>\n      <td>The robot is at position (0,0) with orientatio...</td>\n      <td>To approach the crate safely, the robot must f...</td>\n      <td>[{'action': 'turn', 'angle': 30, 'direction': ...</td>\n    </tr>\n    <tr>\n      <th>1</th>\n      <td>2</td>\n      <td>finder_crate_3</td>\n      <td>gpt-4o</td>\n      <td>The robot is currently positioned at x: 178, y...</td>\n      <td>From the current perception, the crate is appr...</td>\n      <td>[{'action': 'turn', 'angle': 20, 'direction': ...</td>\n    </tr>\n    <tr>\n      <th>2</th>\n      <td>4</td>\n      <td>finder_crate_3</td>\n      <td>gpt-4o</td>\n      <td>The robot's current position is (x: 328, y: -1...</td>\n      <td>To approach the crate, the robot should procee...</td>\n      <td>[{'action': 'turn', 'angle': 15, 'direction': ...</td>\n    </tr>\n    <tr>\n      <th>3</th>\n      <td>6</td>\n      <td>finder_crate_3</td>\n      <td>gpt-4o</td>\n      <td>The robot is currently positioned at (x: 519, ...</td>\n      <td>To safely approach the crate, the robot needs ...</td>\n      <td>[{'action': 'straight', 'distance': 150, 'dire...</td>\n    </tr>\n    <tr>\n      <th>4</th>\n      <td>8</td>\n      <td>finder_crate_3</td>\n      <td>gpt-4o</td>\n      <td>The robot is positioned at (x: 711, y: -240, p...</td>\n      <td>The crate appears to be directly ahead within ...</td>\n      <td>[{'action': 'straight', 'distance': 50, 'direc...</td>\n    </tr>\n    <tr>\n      <th>5</th>\n      <td>10</td>\n      <td>finder_crate_3</td>\n      <td>gpt-4o</td>\n      <td>The current position of the robot is (x: 807, ...</td>\n      <td>Since the crate is directly in front of the ro...</td>\n      <td>[{'action': 'straight', 'distance': 200, 'dire...</td>\n    </tr>\n  </tbody>\n</table>\n</div>"
     },
     "execution_count": 58,
     "metadata": {},
     "output_type": "execute_result"
    }
   ],
   "source": [
    "llm_reasoning_record"
   ],
   "metadata": {
    "collapsed": false,
    "ExecuteTime": {
     "end_time": "2024-06-10T03:29:25.645165500Z",
     "start_time": "2024-06-10T03:29:25.583533200Z"
    }
   },
   "id": "28fef6de1490d6b2"
  },
  {
   "cell_type": "code",
   "execution_count": 59,
   "outputs": [
    {
     "data": {
      "text/plain": "   step    x    y  phi                                           img_path  \\\n0     0    0    0    0  /home/moebuta/projects/eyesimLLM/experiment/da...   \n1     2  178  -97  -29  /home/moebuta/projects/eyesimLLM/experiment/da...   \n2     4  328 -112   -6  /home/moebuta/projects/eyesimLLM/experiment/da...   \n3     6  519 -176  -19  /home/moebuta/projects/eyesimLLM/experiment/da...   \n4     8  711 -240  -18  /home/moebuta/projects/eyesimLLM/experiment/da...   \n5    10  807 -272  -19  /home/moebuta/projects/eyesimLLM/experiment/da...   \n\n                                          lidar_path  \n0  /home/moebuta/projects/eyesimLLM/experiment/da...  \n1  /home/moebuta/projects/eyesimLLM/experiment/da...  \n2  /home/moebuta/projects/eyesimLLM/experiment/da...  \n3  /home/moebuta/projects/eyesimLLM/experiment/da...  \n4  /home/moebuta/projects/eyesimLLM/experiment/da...  \n5  /home/moebuta/projects/eyesimLLM/experiment/da...  ",
      "text/html": "<div>\n<style scoped>\n    .dataframe tbody tr th:only-of-type {\n        vertical-align: middle;\n    }\n\n    .dataframe tbody tr th {\n        vertical-align: top;\n    }\n\n    .dataframe thead th {\n        text-align: right;\n    }\n</style>\n<table border=\"1\" class=\"dataframe\">\n  <thead>\n    <tr style=\"text-align: right;\">\n      <th></th>\n      <th>step</th>\n      <th>x</th>\n      <th>y</th>\n      <th>phi</th>\n      <th>img_path</th>\n      <th>lidar_path</th>\n    </tr>\n  </thead>\n  <tbody>\n    <tr>\n      <th>0</th>\n      <td>0</td>\n      <td>0</td>\n      <td>0</td>\n      <td>0</td>\n      <td>/home/moebuta/projects/eyesimLLM/experiment/da...</td>\n      <td>/home/moebuta/projects/eyesimLLM/experiment/da...</td>\n    </tr>\n    <tr>\n      <th>1</th>\n      <td>2</td>\n      <td>178</td>\n      <td>-97</td>\n      <td>-29</td>\n      <td>/home/moebuta/projects/eyesimLLM/experiment/da...</td>\n      <td>/home/moebuta/projects/eyesimLLM/experiment/da...</td>\n    </tr>\n    <tr>\n      <th>2</th>\n      <td>4</td>\n      <td>328</td>\n      <td>-112</td>\n      <td>-6</td>\n      <td>/home/moebuta/projects/eyesimLLM/experiment/da...</td>\n      <td>/home/moebuta/projects/eyesimLLM/experiment/da...</td>\n    </tr>\n    <tr>\n      <th>3</th>\n      <td>6</td>\n      <td>519</td>\n      <td>-176</td>\n      <td>-19</td>\n      <td>/home/moebuta/projects/eyesimLLM/experiment/da...</td>\n      <td>/home/moebuta/projects/eyesimLLM/experiment/da...</td>\n    </tr>\n    <tr>\n      <th>4</th>\n      <td>8</td>\n      <td>711</td>\n      <td>-240</td>\n      <td>-18</td>\n      <td>/home/moebuta/projects/eyesimLLM/experiment/da...</td>\n      <td>/home/moebuta/projects/eyesimLLM/experiment/da...</td>\n    </tr>\n    <tr>\n      <th>5</th>\n      <td>10</td>\n      <td>807</td>\n      <td>-272</td>\n      <td>-19</td>\n      <td>/home/moebuta/projects/eyesimLLM/experiment/da...</td>\n      <td>/home/moebuta/projects/eyesimLLM/experiment/da...</td>\n    </tr>\n  </tbody>\n</table>\n</div>"
     },
     "execution_count": 59,
     "metadata": {},
     "output_type": "execute_result"
    }
   ],
   "source": [
    "robot_state_record"
   ],
   "metadata": {
    "collapsed": false,
    "ExecuteTime": {
     "end_time": "2024-06-10T03:29:25.645165500Z",
     "start_time": "2024-06-10T03:29:25.596607100Z"
    }
   },
   "id": "14870280e275f420"
  },
  {
   "cell_type": "code",
   "execution_count": 60,
   "outputs": [
    {
     "name": "stdout",
     "output_type": "stream",
     "text": [
      "The robot is currently positioned at x: 178, y: -97, phi: -29. The camera image shows a crate directly ahead. The LiDAR map indicates that there are no immediate obstacles in the direct path to the crate within a range of 500 mm. The last commands executed include a right turn of 30 degrees and moving straight forward 200 mm.\n"
     ]
    }
   ],
   "source": [
    "print(llm_reasoning_record.loc[1]['perception'])"
   ],
   "metadata": {
    "collapsed": false,
    "ExecuteTime": {
     "end_time": "2024-06-10T03:29:25.645165500Z",
     "start_time": "2024-06-10T03:29:25.609807600Z"
    }
   },
   "id": "d5494ef35bfba5bc"
  },
  {
   "cell_type": "code",
   "execution_count": 61,
   "outputs": [
    {
     "name": "stdout",
     "output_type": "stream",
     "text": [
      "From the current perception, the crate is approximately less than 400 mm away. Since there are no immediate obstacles and the need is to stop 200 mm in front of the crate, the robot should proceed forward. Given phi is -29 degrees, a minor left turn can align it better towards the crate.\n"
     ]
    }
   ],
   "source": [
    "print(llm_reasoning_record.loc[1]['planning'])"
   ],
   "metadata": {
    "collapsed": false,
    "ExecuteTime": {
     "end_time": "2024-06-10T03:29:25.645165500Z",
     "start_time": "2024-06-10T03:29:25.616522500Z"
    }
   },
   "id": "a07ccef9105247c7"
  },
  {
   "cell_type": "code",
   "execution_count": 62,
   "outputs": [
    {
     "name": "stdout",
     "output_type": "stream",
     "text": [
      "[{'action': 'turn', 'angle': 20, 'direction': 'left'}, {'action': 'straight', 'distance': 150, 'direction': 'forward'}]\n"
     ]
    }
   ],
   "source": [
    "print(llm_reasoning_record.loc[1]['control'])"
   ],
   "metadata": {
    "collapsed": false,
    "ExecuteTime": {
     "end_time": "2024-06-10T03:29:25.648736Z",
     "start_time": "2024-06-10T03:29:25.626864100Z"
    }
   },
   "id": "b432064067c52076"
  },
  {
   "cell_type": "code",
   "execution_count": 62,
   "outputs": [],
   "source": [],
   "metadata": {
    "collapsed": false,
    "ExecuteTime": {
     "end_time": "2024-06-10T03:29:25.791247400Z",
     "start_time": "2024-06-10T03:29:25.636143800Z"
    }
   },
   "id": "cb0062ad9e0846ec"
  },
  {
   "cell_type": "code",
   "execution_count": 62,
   "outputs": [],
   "source": [],
   "metadata": {
    "collapsed": false,
    "ExecuteTime": {
     "end_time": "2024-06-10T03:29:25.792488400Z",
     "start_time": "2024-06-10T03:29:25.643034400Z"
    }
   },
   "id": "996151a14902be95"
  }
 ],
 "metadata": {
  "kernelspec": {
   "display_name": "Python 3",
   "language": "python",
   "name": "python3"
  },
  "language_info": {
   "codemirror_mode": {
    "name": "ipython",
    "version": 2
   },
   "file_extension": ".py",
   "mimetype": "text/x-python",
   "name": "python",
   "nbconvert_exporter": "python",
   "pygments_lexer": "ipython2",
   "version": "2.7.6"
  }
 },
 "nbformat": 4,
 "nbformat_minor": 5
}
