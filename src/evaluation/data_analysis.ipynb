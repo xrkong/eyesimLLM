{
 "cells": [
  {
   "cell_type": "code",
   "execution_count": 24,
   "id": "initial_id",
   "metadata": {
    "collapsed": true,
    "ExecuteTime": {
     "end_time": "2024-06-09T03:19:56.854199800Z",
     "start_time": "2024-06-09T03:19:56.739928900Z"
    }
   },
   "outputs": [],
   "source": [
    "import pandas as pd\n",
    "from src.utils.constant import DATA_DIR\n",
    "\n",
    "task_name = 'finder_obs_6'"
   ]
  },
  {
   "cell_type": "code",
   "execution_count": 25,
   "outputs": [],
   "source": [
    "llm_action_record = pd.read_csv(DATA_DIR / task_name / 'llm_action_record.csv')"
   ],
   "metadata": {
    "collapsed": false,
    "ExecuteTime": {
     "end_time": "2024-06-09T03:19:56.855287400Z",
     "start_time": "2024-06-09T03:19:56.774193300Z"
    }
   },
   "id": "a792180427d60166"
  },
  {
   "cell_type": "code",
   "execution_count": 26,
   "outputs": [],
   "source": [
    "llm_reasoning_record = pd.read_csv(DATA_DIR / task_name / 'llm_reasoning_record.csv')"
   ],
   "metadata": {
    "collapsed": false,
    "ExecuteTime": {
     "end_time": "2024-06-09T03:19:56.855287400Z",
     "start_time": "2024-06-09T03:19:56.779419100Z"
    }
   },
   "id": "325a26f2d8a62b81"
  },
  {
   "cell_type": "code",
   "execution_count": 27,
   "outputs": [],
   "source": [
    "robot_state_record = pd.read_csv(DATA_DIR / task_name / 'robot_state.csv')"
   ],
   "metadata": {
    "collapsed": false,
    "ExecuteTime": {
     "end_time": "2024-06-09T03:19:56.855287400Z",
     "start_time": "2024-06-09T03:19:56.789269300Z"
    }
   },
   "id": "8d5146d0a1bf4eb0"
  },
  {
   "cell_type": "code",
   "execution_count": 28,
   "outputs": [
    {
     "data": {
      "text/plain": "   experiment_time    action direction  distance  angle   safe  executed  \\\n0                0  straight   forward       400      0   True      True   \n1                1  straight   forward       400      0   True      True   \n2                2      turn     right         0     90   True      True   \n3                3  straight   forward       250      0  False     False   \n4                3  straight   forward        50      0   True      True   \n5                4  straight   forward        50      0   True      True   \n6                5  straight   forward        50      0   True      True   \n7                6      turn     right         0     30   True      True   \n8                7  straight   forward       200      0   True      True   \n\n                           pos_before                           pos_after  \n0          {'x': 0, 'y': 0, 'phi': 0}        {'x': 405, 'y': 2, 'phi': 0}  \n1        {'x': 405, 'y': 2, 'phi': 0}        {'x': 809, 'y': 0, 'phi': 0}  \n2        {'x': 809, 'y': 0, 'phi': 0}     {'x': 810, 'y': -3, 'phi': -93}  \n3     {'x': 810, 'y': -3, 'phi': -93}     {'x': 810, 'y': -3, 'phi': -93}  \n4     {'x': 810, 'y': -3, 'phi': -93}    {'x': 808, 'y': -54, 'phi': -92}  \n5    {'x': 808, 'y': -54, 'phi': -92}   {'x': 806, 'y': -104, 'phi': -93}  \n6   {'x': 806, 'y': -104, 'phi': -93}   {'x': 804, 'y': -157, 'phi': -95}  \n7   {'x': 804, 'y': -157, 'phi': -95}  {'x': 803, 'y': -158, 'phi': -123}  \n8  {'x': 803, 'y': -158, 'phi': -123}  {'x': 689, 'y': -325, 'phi': -124}  ",
      "text/html": "<div>\n<style scoped>\n    .dataframe tbody tr th:only-of-type {\n        vertical-align: middle;\n    }\n\n    .dataframe tbody tr th {\n        vertical-align: top;\n    }\n\n    .dataframe thead th {\n        text-align: right;\n    }\n</style>\n<table border=\"1\" class=\"dataframe\">\n  <thead>\n    <tr style=\"text-align: right;\">\n      <th></th>\n      <th>experiment_time</th>\n      <th>action</th>\n      <th>direction</th>\n      <th>distance</th>\n      <th>angle</th>\n      <th>safe</th>\n      <th>executed</th>\n      <th>pos_before</th>\n      <th>pos_after</th>\n    </tr>\n  </thead>\n  <tbody>\n    <tr>\n      <th>0</th>\n      <td>0</td>\n      <td>straight</td>\n      <td>forward</td>\n      <td>400</td>\n      <td>0</td>\n      <td>True</td>\n      <td>True</td>\n      <td>{'x': 0, 'y': 0, 'phi': 0}</td>\n      <td>{'x': 405, 'y': 2, 'phi': 0}</td>\n    </tr>\n    <tr>\n      <th>1</th>\n      <td>1</td>\n      <td>straight</td>\n      <td>forward</td>\n      <td>400</td>\n      <td>0</td>\n      <td>True</td>\n      <td>True</td>\n      <td>{'x': 405, 'y': 2, 'phi': 0}</td>\n      <td>{'x': 809, 'y': 0, 'phi': 0}</td>\n    </tr>\n    <tr>\n      <th>2</th>\n      <td>2</td>\n      <td>turn</td>\n      <td>right</td>\n      <td>0</td>\n      <td>90</td>\n      <td>True</td>\n      <td>True</td>\n      <td>{'x': 809, 'y': 0, 'phi': 0}</td>\n      <td>{'x': 810, 'y': -3, 'phi': -93}</td>\n    </tr>\n    <tr>\n      <th>3</th>\n      <td>3</td>\n      <td>straight</td>\n      <td>forward</td>\n      <td>250</td>\n      <td>0</td>\n      <td>False</td>\n      <td>False</td>\n      <td>{'x': 810, 'y': -3, 'phi': -93}</td>\n      <td>{'x': 810, 'y': -3, 'phi': -93}</td>\n    </tr>\n    <tr>\n      <th>4</th>\n      <td>3</td>\n      <td>straight</td>\n      <td>forward</td>\n      <td>50</td>\n      <td>0</td>\n      <td>True</td>\n      <td>True</td>\n      <td>{'x': 810, 'y': -3, 'phi': -93}</td>\n      <td>{'x': 808, 'y': -54, 'phi': -92}</td>\n    </tr>\n    <tr>\n      <th>5</th>\n      <td>4</td>\n      <td>straight</td>\n      <td>forward</td>\n      <td>50</td>\n      <td>0</td>\n      <td>True</td>\n      <td>True</td>\n      <td>{'x': 808, 'y': -54, 'phi': -92}</td>\n      <td>{'x': 806, 'y': -104, 'phi': -93}</td>\n    </tr>\n    <tr>\n      <th>6</th>\n      <td>5</td>\n      <td>straight</td>\n      <td>forward</td>\n      <td>50</td>\n      <td>0</td>\n      <td>True</td>\n      <td>True</td>\n      <td>{'x': 806, 'y': -104, 'phi': -93}</td>\n      <td>{'x': 804, 'y': -157, 'phi': -95}</td>\n    </tr>\n    <tr>\n      <th>7</th>\n      <td>6</td>\n      <td>turn</td>\n      <td>right</td>\n      <td>0</td>\n      <td>30</td>\n      <td>True</td>\n      <td>True</td>\n      <td>{'x': 804, 'y': -157, 'phi': -95}</td>\n      <td>{'x': 803, 'y': -158, 'phi': -123}</td>\n    </tr>\n    <tr>\n      <th>8</th>\n      <td>7</td>\n      <td>straight</td>\n      <td>forward</td>\n      <td>200</td>\n      <td>0</td>\n      <td>True</td>\n      <td>True</td>\n      <td>{'x': 803, 'y': -158, 'phi': -123}</td>\n      <td>{'x': 689, 'y': -325, 'phi': -124}</td>\n    </tr>\n  </tbody>\n</table>\n</div>"
     },
     "execution_count": 28,
     "metadata": {},
     "output_type": "execute_result"
    }
   ],
   "source": [
    "llm_action_record"
   ],
   "metadata": {
    "collapsed": false,
    "ExecuteTime": {
     "end_time": "2024-06-09T03:19:56.855287400Z",
     "start_time": "2024-06-09T03:19:56.812693100Z"
    }
   },
   "id": "891f26d4c287ed7"
  },
  {
   "cell_type": "code",
   "execution_count": 33,
   "outputs": [
    {
     "data": {
      "text/plain": "   experiment_time     task_name model_name  \\\n0                0  finder_obs_6     gpt-4o   \n1                2  finder_obs_6     gpt-4o   \n2                3  finder_obs_6     gpt-4o   \n3                4  finder_obs_6     gpt-4o   \n4                6  finder_obs_6     gpt-4o   \n\n                                          perception  \\\n0  The robot is positioned at (0, 0, 0). The red ...   \n1  The robot is currently at position (809, 0, ph...   \n2  The robot is positioned in an environment with...   \n3  Upon analyzing the current position at (808, -...   \n4  The robot is currently located at (804, -157) ...   \n\n                                            planning  \\\n0  The robot needs to approach the red can while ...   \n1  Based on the perceived information, the robot ...   \n2  To approach the red can and stop 200 mm in fro...   \n3  To approach the can and maintain a safe distan...   \n4  To approach the red can while avoiding obstacl...   \n\n                                             control  \n0  [{'action': 'straight', 'distance': 400, 'dire...  \n1  [{'action': 'turn', 'angle': 90, 'direction': ...  \n2  [{'action': 'straight', 'distance': 50, 'direc...  \n3  [{'action': 'straight', 'distance': 50, 'direc...  \n4  [{'action': 'turn', 'angle': 30, 'direction': ...  ",
      "text/html": "<div>\n<style scoped>\n    .dataframe tbody tr th:only-of-type {\n        vertical-align: middle;\n    }\n\n    .dataframe tbody tr th {\n        vertical-align: top;\n    }\n\n    .dataframe thead th {\n        text-align: right;\n    }\n</style>\n<table border=\"1\" class=\"dataframe\">\n  <thead>\n    <tr style=\"text-align: right;\">\n      <th></th>\n      <th>experiment_time</th>\n      <th>task_name</th>\n      <th>model_name</th>\n      <th>perception</th>\n      <th>planning</th>\n      <th>control</th>\n    </tr>\n  </thead>\n  <tbody>\n    <tr>\n      <th>0</th>\n      <td>0</td>\n      <td>finder_obs_6</td>\n      <td>gpt-4o</td>\n      <td>The robot is positioned at (0, 0, 0). The red ...</td>\n      <td>The robot needs to approach the red can while ...</td>\n      <td>[{'action': 'straight', 'distance': 400, 'dire...</td>\n    </tr>\n    <tr>\n      <th>1</th>\n      <td>2</td>\n      <td>finder_obs_6</td>\n      <td>gpt-4o</td>\n      <td>The robot is currently at position (809, 0, ph...</td>\n      <td>Based on the perceived information, the robot ...</td>\n      <td>[{'action': 'turn', 'angle': 90, 'direction': ...</td>\n    </tr>\n    <tr>\n      <th>2</th>\n      <td>3</td>\n      <td>finder_obs_6</td>\n      <td>gpt-4o</td>\n      <td>The robot is positioned in an environment with...</td>\n      <td>To approach the red can and stop 200 mm in fro...</td>\n      <td>[{'action': 'straight', 'distance': 50, 'direc...</td>\n    </tr>\n    <tr>\n      <th>3</th>\n      <td>4</td>\n      <td>finder_obs_6</td>\n      <td>gpt-4o</td>\n      <td>Upon analyzing the current position at (808, -...</td>\n      <td>To approach the can and maintain a safe distan...</td>\n      <td>[{'action': 'straight', 'distance': 50, 'direc...</td>\n    </tr>\n    <tr>\n      <th>4</th>\n      <td>6</td>\n      <td>finder_obs_6</td>\n      <td>gpt-4o</td>\n      <td>The robot is currently located at (804, -157) ...</td>\n      <td>To approach the red can while avoiding obstacl...</td>\n      <td>[{'action': 'turn', 'angle': 30, 'direction': ...</td>\n    </tr>\n  </tbody>\n</table>\n</div>"
     },
     "execution_count": 33,
     "metadata": {},
     "output_type": "execute_result"
    }
   ],
   "source": [
    "llm_reasoning_record"
   ],
   "metadata": {
    "collapsed": false,
    "ExecuteTime": {
     "end_time": "2024-06-09T03:21:00.723594700Z",
     "start_time": "2024-06-09T03:21:00.621257300Z"
    }
   },
   "id": "28fef6de1490d6b2"
  },
  {
   "cell_type": "code",
   "execution_count": 34,
   "outputs": [
    {
     "data": {
      "text/plain": "   step    x    y  phi                                           img_path  \\\n0     0    0    0    0  /home/moebuta/projects/eyesimLLM/experiment/da...   \n1     2  809    0    0  /home/moebuta/projects/eyesimLLM/experiment/da...   \n2     3  810   -3  -93  /home/moebuta/projects/eyesimLLM/experiment/da...   \n3     4  808  -54  -92  /home/moebuta/projects/eyesimLLM/experiment/da...   \n4     6  804 -157  -95  /home/moebuta/projects/eyesimLLM/experiment/da...   \n\n                                          lidar_path  \n0  /home/moebuta/projects/eyesimLLM/experiment/da...  \n1  /home/moebuta/projects/eyesimLLM/experiment/da...  \n2  /home/moebuta/projects/eyesimLLM/experiment/da...  \n3  /home/moebuta/projects/eyesimLLM/experiment/da...  \n4  /home/moebuta/projects/eyesimLLM/experiment/da...  ",
      "text/html": "<div>\n<style scoped>\n    .dataframe tbody tr th:only-of-type {\n        vertical-align: middle;\n    }\n\n    .dataframe tbody tr th {\n        vertical-align: top;\n    }\n\n    .dataframe thead th {\n        text-align: right;\n    }\n</style>\n<table border=\"1\" class=\"dataframe\">\n  <thead>\n    <tr style=\"text-align: right;\">\n      <th></th>\n      <th>step</th>\n      <th>x</th>\n      <th>y</th>\n      <th>phi</th>\n      <th>img_path</th>\n      <th>lidar_path</th>\n    </tr>\n  </thead>\n  <tbody>\n    <tr>\n      <th>0</th>\n      <td>0</td>\n      <td>0</td>\n      <td>0</td>\n      <td>0</td>\n      <td>/home/moebuta/projects/eyesimLLM/experiment/da...</td>\n      <td>/home/moebuta/projects/eyesimLLM/experiment/da...</td>\n    </tr>\n    <tr>\n      <th>1</th>\n      <td>2</td>\n      <td>809</td>\n      <td>0</td>\n      <td>0</td>\n      <td>/home/moebuta/projects/eyesimLLM/experiment/da...</td>\n      <td>/home/moebuta/projects/eyesimLLM/experiment/da...</td>\n    </tr>\n    <tr>\n      <th>2</th>\n      <td>3</td>\n      <td>810</td>\n      <td>-3</td>\n      <td>-93</td>\n      <td>/home/moebuta/projects/eyesimLLM/experiment/da...</td>\n      <td>/home/moebuta/projects/eyesimLLM/experiment/da...</td>\n    </tr>\n    <tr>\n      <th>3</th>\n      <td>4</td>\n      <td>808</td>\n      <td>-54</td>\n      <td>-92</td>\n      <td>/home/moebuta/projects/eyesimLLM/experiment/da...</td>\n      <td>/home/moebuta/projects/eyesimLLM/experiment/da...</td>\n    </tr>\n    <tr>\n      <th>4</th>\n      <td>6</td>\n      <td>804</td>\n      <td>-157</td>\n      <td>-95</td>\n      <td>/home/moebuta/projects/eyesimLLM/experiment/da...</td>\n      <td>/home/moebuta/projects/eyesimLLM/experiment/da...</td>\n    </tr>\n  </tbody>\n</table>\n</div>"
     },
     "execution_count": 34,
     "metadata": {},
     "output_type": "execute_result"
    }
   ],
   "source": [
    "robot_state_record"
   ],
   "metadata": {
    "collapsed": false,
    "ExecuteTime": {
     "end_time": "2024-06-09T03:21:08.573054200Z",
     "start_time": "2024-06-09T03:21:08.464725700Z"
    }
   },
   "id": "14870280e275f420"
  },
  {
   "cell_type": "code",
   "execution_count": 31,
   "outputs": [
    {
     "name": "stdout",
     "output_type": "stream",
     "text": [
      "Based on the perceived information, the robot needs to turn and explore the room to locate the red can. Given that the most recent images and LiDAR data do not indicate the presence of the red can in the current direction, the robot should turn to get a new perspective.\n"
     ]
    }
   ],
   "source": [
    "print(llm_reasoning_record.loc[1]['planning'])"
   ],
   "metadata": {
    "collapsed": false,
    "ExecuteTime": {
     "end_time": "2024-06-09T03:20:09.348858400Z",
     "start_time": "2024-06-09T03:20:09.262103Z"
    }
   },
   "id": "a07ccef9105247c7"
  },
  {
   "cell_type": "code",
   "execution_count": 32,
   "outputs": [
    {
     "name": "stdout",
     "output_type": "stream",
     "text": [
      "[{'action': 'turn', 'angle': 90, 'direction': 'right'}, {'action': 'straight', 'distance': 250, 'direction': 'forward'}]\n"
     ]
    }
   ],
   "source": [
    "print(llm_reasoning_record.loc[1]['control'])"
   ],
   "metadata": {
    "collapsed": false,
    "ExecuteTime": {
     "end_time": "2024-06-09T03:20:10.589213100Z",
     "start_time": "2024-06-09T03:20:10.577193700Z"
    }
   },
   "id": "b432064067c52076"
  },
  {
   "cell_type": "code",
   "execution_count": 30,
   "outputs": [],
   "source": [],
   "metadata": {
    "collapsed": false,
    "ExecuteTime": {
     "end_time": "2024-06-09T03:19:56.856294700Z",
     "start_time": "2024-06-09T03:19:56.835467300Z"
    }
   },
   "id": "cb0062ad9e0846ec"
  },
  {
   "cell_type": "code",
   "execution_count": 30,
   "outputs": [],
   "source": [],
   "metadata": {
    "collapsed": false,
    "ExecuteTime": {
     "end_time": "2024-06-09T03:19:56.856294700Z",
     "start_time": "2024-06-09T03:19:56.843003200Z"
    }
   },
   "id": "996151a14902be95"
  }
 ],
 "metadata": {
  "kernelspec": {
   "display_name": "Python 3",
   "language": "python",
   "name": "python3"
  },
  "language_info": {
   "codemirror_mode": {
    "name": "ipython",
    "version": 2
   },
   "file_extension": ".py",
   "mimetype": "text/x-python",
   "name": "python",
   "nbconvert_exporter": "python",
   "pygments_lexer": "ipython2",
   "version": "2.7.6"
  }
 },
 "nbformat": 4,
 "nbformat_minor": 5
}
