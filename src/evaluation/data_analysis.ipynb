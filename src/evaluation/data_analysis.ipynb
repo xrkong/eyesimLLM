{
 "cells": [
  {
   "cell_type": "code",
   "execution_count": 50,
   "id": "initial_id",
   "metadata": {
    "collapsed": true,
    "ExecuteTime": {
     "end_time": "2024-08-05T05:33:06.032480600Z",
     "start_time": "2024-08-05T05:33:05.999987300Z"
    }
   },
   "outputs": [],
   "source": [
    "import pandas as pd\n",
    "import seaborn as sns\n",
    "import matplotlib.pyplot as plt"
   ]
  },
  {
   "cell_type": "code",
   "execution_count": 51,
   "outputs": [],
   "source": [
    "\n",
    "model = [\"gpt-4o\", \"gpt-4o-mini\"]\n",
    "attack = [\"Baseline\", \"OMI\", \"GHI\", \"CSI\"]\n",
    "defence = [\"None\", \"Defence\"]\n",
    "attack_rate = [0.3, 0.5, 0.7, 1]"
   ],
   "metadata": {
    "collapsed": false,
    "ExecuteTime": {
     "end_time": "2024-08-05T05:33:06.061322200Z",
     "start_time": "2024-08-05T05:33:06.061322200Z"
    }
   },
   "id": "5b84284407641363"
  },
  {
   "cell_type": "code",
   "execution_count": 52,
   "outputs": [],
   "source": [
    "precision_gpt_4o_OMI_none = [0.6, 0, 0, 1]\n",
    "precision_gpt_4o_OMI_defence = [1, 0, 0, 0.67]\n",
    "precision_gpt_4o_GHI_none = [0, 0, 0, 0]\n",
    "precision_gpt_4o_GHI_defence = [0.9, 0, 0, 1]"
   ],
   "metadata": {
    "collapsed": false,
    "ExecuteTime": {
     "end_time": "2024-08-05T05:33:06.084903900Z",
     "start_time": "2024-08-05T05:33:06.069289500Z"
    }
   },
   "id": "ec41bb3f087a8af"
  },
  {
   "cell_type": "code",
   "execution_count": 53,
   "outputs": [],
   "source": [
    "\n",
    "gpt_4o_precision = {\n",
    "    \"attack rate\": [0.3, 0.5, 0.7, 1,\n",
    "                    0.3, 0.5, 0.7, 1,\n",
    "                    0.3, 0.5, 0.7, 1,\n",
    "                    0.3, 0.5, 0.7, 1\n",
    "                    ],\n",
    "    \"precision\": [0.6, 0.8, 0, 1,    \n",
    "                  1, 1, 0, 0.67,\n",
    "                  0, 0, 0, 0,\n",
    "                  0.9, 0.6, 0, 1\n",
    "                  ],\n",
    "    \"attack type\": [\"OMI\",\"OMI\",\"OMI\",\"OMI\", \n",
    "                    \"OMI\",\"OMI\",\"OMI\",\"OMI\",\n",
    "                    \"GHI\",\"GHI\",\"GHI\",\"GHI\",\n",
    "                    \"GHI\",\"GHI\",\"GHI\",\"GHI\",\n",
    "                    ],\n",
    "    \"defence\": [\"None\",\"None\",\"None\",\"None\",\n",
    "                \"Applied\",\"Applied\",\"Applied\",\"Applied\",\n",
    "                \"None\",\"None\",\"None\",\"None\",\n",
    "                \"Applied\",\"Applied\",\"Applied\",\"Applied\",               \n",
    "                ],\n",
    "    \n",
    "    # \"model\": [\n",
    "    #     \"gpt-4o\", \"gpt-4o\", \"gpt-4o\", \"gpt-4o\",\n",
    "    #     \"gpt-4o\", \"gpt-4o\", \"gpt-4o\", \"gpt-4o\",\n",
    "    #     \"gpt-4o\", \"gpt-4o\", \"gpt-4o\", \"gpt-4o\",\n",
    "    #     \"gpt-4o\", \"gpt-4o\", \"gpt-4o\", \"gpt-4o\",\n",
    "    # ]\n",
    "    \n",
    "}\n",
    "\n"
   ],
   "metadata": {
    "collapsed": false,
    "ExecuteTime": {
     "end_time": "2024-08-05T05:33:06.093613700Z",
     "start_time": "2024-08-05T05:33:06.083903Z"
    }
   },
   "id": "5f1d46f10ef5e0aa"
  },
  {
   "cell_type": "code",
   "execution_count": 54,
   "outputs": [
    {
     "name": "stderr",
     "output_type": "stream",
     "text": [
      "/home/moebuta/projects/eyesimLLM/venv/lib/python3.9/site-packages/seaborn/axisgrid.py:718: UserWarning: Using the barplot function without specifying `order` is likely to produce an incorrect plot.\n",
      "  warnings.warn(warning)\n",
      "/home/moebuta/projects/eyesimLLM/venv/lib/python3.9/site-packages/seaborn/axisgrid.py:723: UserWarning: Using the barplot function without specifying `hue_order` is likely to produce an incorrect plot.\n",
      "  warnings.warn(warning)\n",
      "/home/moebuta/projects/eyesimLLM/venv/lib/python3.9/site-packages/seaborn/axisgrid.py:854: FutureWarning: \n",
      "\n",
      "Setting a gradient palette using color= is deprecated and will be removed in v0.14.0. Set `palette='dark:#1f77b4'` for the same effect.\n",
      "\n",
      "  func(*plot_args, **plot_kwargs)\n",
      "/home/moebuta/projects/eyesimLLM/venv/lib/python3.9/site-packages/seaborn/axisgrid.py:854: FutureWarning: \n",
      "\n",
      "Setting a gradient palette using color= is deprecated and will be removed in v0.14.0. Set `palette='dark:#1f77b4'` for the same effect.\n",
      "\n",
      "  func(*plot_args, **plot_kwargs)\n"
     ]
    },
    {
     "data": {
      "text/plain": "<Figure size 487.25x216 with 2 Axes>",
      "image/png": "[encoded data removed]"
     },
     "metadata": {},
     "output_type": "display_data"
    }
   ],
   "source": [
    "df = pd.DataFrame(gpt_4o_precision)\n",
    "g = sns.FacetGrid(df, col='defence',  margin_titles=True)\n",
    "g.map(sns.barplot, 'attack rate', 'precision', \"attack type\")\n",
    "g.add_legend()\n",
    "plt.show()"
   ],
   "metadata": {
    "collapsed": false,
    "ExecuteTime": {
     "end_time": "2024-08-05T05:33:08.212163500Z",
     "start_time": "2024-08-05T05:33:06.092095800Z"
    }
   },
   "id": "8d5bbbe152ac9b1a"
  },
  {
   "cell_type": "code",
   "execution_count": 55,
   "outputs": [],
   "source": [
    "recall_gpt_4o_OMI_none = [0.25, 0, 0, 0.28]\n",
    "recall_gpt_4o_OMI_defence = [0.4, 0, 0, 0.26]\n",
    "recall_gpt_4o_GHI_none = [0, 0, 0, 0]\n",
    "recall_gpt_4o_GHI_defence = [0.54, 0, 0, 0.25]\n"
   ],
   "metadata": {
    "collapsed": false,
    "ExecuteTime": {
     "end_time": "2024-08-05T05:33:08.218717700Z",
     "start_time": "2024-08-05T05:33:08.210045100Z"
    }
   },
   "id": "eae1f222dcc449f3"
  },
  {
   "cell_type": "code",
   "execution_count": 56,
   "outputs": [],
   "source": [
    "gpt_4o_recall = {\n",
    "    \"attack rate\": [0.3, 0.5, 0.7, 1,\n",
    "                    0.3, 0.5, 0.7, 1,\n",
    "                    0.3, 0.5, 0.7, 1,\n",
    "                    0.3, 0.5, 0.7, 1\n",
    "                    ],\n",
    "    \"recall\": [0.25, 0.33, 0, 0.28,    \n",
    "                 0.4, 0.31, 0, 0.26,\n",
    "                  0, 0, 0, 0,\n",
    "                  0.54, 0.13, 0, 0.25\n",
    "                  ],\n",
    "    \"attack type\": [\"OMI\",\"OMI\",\"OMI\",\"OMI\", \n",
    "                    \"OMI\",\"OMI\",\"OMI\",\"OMI\",\n",
    "                    \"GHI\",\"GHI\",\"GHI\",\"GHI\",\n",
    "                    \"GHI\",\"GHI\",\"GHI\",\"GHI\",\n",
    "                    ],\n",
    "    \"defence\": [\"None\",\"None\",\"None\",\"None\",\n",
    "                \"Applied\",\"Applied\",\"Applied\",\"Applied\",\n",
    "                \"None\",\"None\",\"None\",\"None\",\n",
    "                \"Applied\",\"Applied\",\"Applied\",\"Applied\",               \n",
    "                ],\n",
    "    \n",
    "}"
   ],
   "metadata": {
    "collapsed": false,
    "ExecuteTime": {
     "end_time": "2024-08-05T05:33:08.265699200Z",
     "start_time": "2024-08-05T05:33:08.216785500Z"
    }
   },
   "id": "46e73e96ae0e609e"
  },
  {
   "cell_type": "code",
   "execution_count": 57,
   "outputs": [
    {
     "data": {
      "text/plain": "<Figure size 496.5x216 with 2 Axes>",
      "image/png": "[encoded data removed]"
     },
     "metadata": {},
     "output_type": "display_data"
    }
   ],
   "source": [
    "df = pd.DataFrame(gpt_4o_recall)\n",
    "g = sns.FacetGrid(df, col='defence', hue='attack type', margin_titles=True)\n",
    "g.map(sns.lineplot, 'attack rate', 'recall')\n",
    "g.add_legend()\n",
    "plt.show()"
   ],
   "metadata": {
    "collapsed": false,
    "ExecuteTime": {
     "end_time": "2024-08-05T05:33:08.909055300Z",
     "start_time": "2024-08-05T05:33:08.233901300Z"
    }
   },
   "id": "5a7904ca84bda3d5"
  },
  {
   "cell_type": "code",
   "execution_count": 58,
   "outputs": [],
   "source": [
    "f1_gpt_4o_OMI_none = [0.35, 0, 0, 0.41]\n",
    "f1_gpt_4o_OMI_defence = [0.55, 0, 0, 0.37]\n",
    "f1_gpt_4o_GHI_none = [0, 0, 0, 0]\n",
    "f1_gpt_4o_GHI_defence = [0.65, 0, 0, 0.39]"
   ],
   "metadata": {
    "collapsed": false,
    "ExecuteTime": {
     "end_time": "2024-08-05T05:33:08.921422300Z",
     "start_time": "2024-08-05T05:33:08.914219300Z"
    }
   },
   "id": "fbf2794f643820a7"
  },
  {
   "cell_type": "code",
   "execution_count": 59,
   "outputs": [],
   "source": [
    "gpt_4o_f1 = {\n",
    "    \"attack rate\": [0.3, 0.5, 0.7, 1,\n",
    "                    0.3, 0.5, 0.7, 1,\n",
    "                    0.3, 0.5, 0.7, 1,\n",
    "                    0.3, 0.5, 0.7, 1\n",
    "                    ],\n",
    "    \"f1\": [0.35, 0.46, 0, 0.41,  \n",
    "               0.55, 0.46, 0, 0.37,\n",
    "                  0, 0, 0, 0,\n",
    "               0.65, 0.21 , 0, 0.39\n",
    "                  ],\n",
    "    \"attack type\": [\"OMI\",\"OMI\",\"OMI\",\"OMI\", \n",
    "                    \"OMI\",\"OMI\",\"OMI\",\"OMI\",\n",
    "                    \"GHI\",\"GHI\",\"GHI\",\"GHI\",\n",
    "                    \"GHI\",\"GHI\",\"GHI\",\"GHI\",\n",
    "                    ],\n",
    "    \"defence\": [\"None\",\"None\",\"None\",\"None\",\n",
    "                \"Applied\",\"Applied\",\"Applied\",\"Applied\",\n",
    "                \"None\",\"None\",\"None\",\"None\",\n",
    "                \"Applied\",\"Applied\",\"Applied\",\"Applied\",               \n",
    "                ],\n",
    "    \n",
    "    \n",
    "}"
   ],
   "metadata": {
    "collapsed": false,
    "ExecuteTime": {
     "end_time": "2024-08-05T05:33:08.975116700Z",
     "start_time": "2024-08-05T05:33:08.920413900Z"
    }
   },
   "id": "2f7a4ffbb4116b6c"
  },
  {
   "cell_type": "code",
   "execution_count": 60,
   "outputs": [
    {
     "data": {
      "text/plain": "<Figure size 496.5x216 with 2 Axes>",
      "image/png": "[encoded data removed]"
     },
     "metadata": {},
     "output_type": "display_data"
    }
   ],
   "source": [
    "df = pd.DataFrame(gpt_4o_f1)\n",
    "g = sns.FacetGrid(df, col='defence', hue='attack type', margin_titles=True)\n",
    "g.map(sns.lineplot, 'attack rate', 'f1')\n",
    "g.add_legend()\n",
    "plt.show()"
   ],
   "metadata": {
    "collapsed": false,
    "ExecuteTime": {
     "end_time": "2024-08-05T05:33:09.587323400Z",
     "start_time": "2024-08-05T05:33:09.010114300Z"
    }
   },
   "id": "747fb2c710c06d83"
  },
  {
   "cell_type": "code",
   "execution_count": 60,
   "outputs": [],
   "source": [],
   "metadata": {
    "collapsed": false,
    "ExecuteTime": {
     "end_time": "2024-08-05T05:33:09.641054300Z",
     "start_time": "2024-08-05T05:33:09.583007800Z"
    }
   },
   "id": "462ee8c0594d1846"
  }
 ],
 "metadata": {
  "kernelspec": {
   "display_name": "Python 3",
   "language": "python",
   "name": "python3"
  },
  "language_info": {
   "codemirror_mode": {
    "name": "ipython",
    "version": 2
   },
   "file_extension": ".py",
   "mimetype": "text/x-python",
   "name": "python",
   "nbconvert_exporter": "python",
   "pygments_lexer": "ipython2",
   "version": "2.7.6"
  }
 },
 "nbformat": 4,
 "nbformat_minor": 5
}
