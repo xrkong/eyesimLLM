{
 "cells": [
  {
   "cell_type": "code",
   "execution_count": 260,
   "id": "initial_id",
   "metadata": {
    "collapsed": true,
    "ExecuteTime": {
     "end_time": "2024-08-06T00:42:55.303735100Z",
     "start_time": "2024-08-06T00:42:55.186080600Z"
    }
   },
   "outputs": [],
   "source": [
    "import pandas as pd\n",
    "import seaborn as sns\n",
    "import matplotlib.pyplot as plt\n",
    "from src.utils.constant import EXP_DIR"
   ]
  },
  {
   "cell_type": "code",
   "execution_count": 261,
   "outputs": [],
   "source": [
    "model = [\"gpt-4o\", \"gpt-4o-mini\"]\n",
    "attack = [\"Baseline\", \"OMI\", \"GHI\", \"CSI\"]\n",
    "defence = [\"No Defence\", \"Defence\"]\n",
    "attack_rate = [0.3, 0.5, 0.7, 1]"
   ],
   "metadata": {
    "collapsed": false,
    "ExecuteTime": {
     "end_time": "2024-08-06T00:42:55.307735Z",
     "start_time": "2024-08-06T00:42:55.261529100Z"
    }
   },
   "id": "5b84284407641363"
  },
  {
   "cell_type": "code",
   "execution_count": 262,
   "outputs": [],
   "source": [
    "precision_gpt_4o_OMI_none = [0.6, 0, 0, 1]\n",
    "precision_gpt_4o_OMI_defence = [1, 0, 0, 0.67]\n",
    "precision_gpt_4o_GHI_none = [0, 0, 0, 0]\n",
    "precision_gpt_4o_GHI_defence = [0.9, 0, 0, 1]"
   ],
   "metadata": {
    "collapsed": false,
    "ExecuteTime": {
     "end_time": "2024-08-06T00:42:55.307735Z",
     "start_time": "2024-08-06T00:42:55.269589300Z"
    }
   },
   "id": "ec41bb3f087a8af"
  },
  {
   "cell_type": "code",
   "execution_count": 263,
   "outputs": [],
   "source": [
    "\n",
    "gpt_4o_precision = {\n",
    "    \"attack rate\": [0.3, 0.5, 0.7, 1,\n",
    "                    0.3, 0.5, 0.7, 1,\n",
    "                    0.3, 0.5, 0.7, 1,\n",
    "                    0.3, 0.5, 0.7, 1\n",
    "                    ],\n",
    "    \"precision\": [0.6, 0.8, 0.8, 1,    \n",
    "                  1, 1, 0.8, 1,\n",
    "                  0, 0, 0, 0,\n",
    "                  0.9, 0.6, 1, 1\n",
    "                  ],\n",
    "    \"attack type\": [\"OMI\",\"OMI\",\"OMI\",\"OMI\", \n",
    "                    \"OMI\",\"OMI\",\"OMI\",\"OMI\",\n",
    "                    \"GHI\",\"GHI\",\"GHI\",\"GHI\",\n",
    "                    \"GHI\",\"GHI\",\"GHI\",\"GHI\",\n",
    "                    ],\n",
    "    \"defence\": [\"No Defence\",\"No Defence\",\"No Defence\",\"No Defence\",\n",
    "                \"Defence Applied\",\"Defence Applied\",\"Defence Applied\",\"Defence Applied\",\n",
    "                \"No Defence\",\"No Defence\",\"No Defence\",\"No Defence\",\n",
    "                \"Defence Applied\",\"Defence Applied\",\"Defence Applied\",\"Defence Applied\",               \n",
    "                ],\n",
    "    \n",
    "}\n",
    "\n"
   ],
   "metadata": {
    "collapsed": false,
    "ExecuteTime": {
     "end_time": "2024-08-06T00:42:55.307735Z",
     "start_time": "2024-08-06T00:42:55.281665600Z"
    }
   },
   "id": "5f1d46f10ef5e0aa"
  },
  {
   "cell_type": "code",
   "execution_count": 264,
   "outputs": [
    {
     "name": "stderr",
     "output_type": "stream",
     "text": [
      "/home/moebuta/projects/eyesimLLM/venv/lib/python3.9/site-packages/seaborn/axisgrid.py:718: UserWarning: Using the barplot function without specifying `order` is likely to produce an incorrect plot.\n",
      "  warnings.warn(warning)\n",
      "/home/moebuta/projects/eyesimLLM/venv/lib/python3.9/site-packages/seaborn/axisgrid.py:723: UserWarning: Using the barplot function without specifying `hue_order` is likely to produce an incorrect plot.\n",
      "  warnings.warn(warning)\n",
      "/home/moebuta/projects/eyesimLLM/venv/lib/python3.9/site-packages/seaborn/axisgrid.py:854: FutureWarning: \n",
      "\n",
      "Setting a gradient palette using color= is deprecated and will be removed in v0.14.0. Set `palette='dark:#4c72b0'` for the same effect.\n",
      "\n",
      "  func(*plot_args, **plot_kwargs)\n",
      "/home/moebuta/projects/eyesimLLM/venv/lib/python3.9/site-packages/seaborn/axisgrid.py:854: FutureWarning: \n",
      "\n",
      "Setting a gradient palette using color= is deprecated and will be removed in v0.14.0. Set `palette='dark:#4c72b0'` for the same effect.\n",
      "\n",
      "  func(*plot_args, **plot_kwargs)\n"
     ]
    },
    {
     "data": {
      "text/plain": "<Figure size 432x216 with 2 Axes>",
      "image/png": "[encoded data removed]"
     },
     "metadata": {},
     "output_type": "display_data"
    }
   ],
   "source": [
    "sns.set(font_scale=1.2)\n",
    "df = pd.DataFrame(gpt_4o_precision)\n",
    "g = sns.FacetGrid(df, col='attack type',  margin_titles=True)\n",
    "g.map(sns.barplot, 'attack rate', 'precision', \"defence\")\n",
    "# g.add_legend()\n",
    "plt.subplots_adjust(bottom=0.35)\n",
    "plt.savefig(f\"{EXP_DIR}/precision.png\", bbox_inches='tight')\n",
    "plt.show()"
   ],
   "metadata": {
    "collapsed": false,
    "ExecuteTime": {
     "end_time": "2024-08-06T00:42:56.454286300Z",
     "start_time": "2024-08-06T00:42:55.295066700Z"
    }
   },
   "id": "8d5bbbe152ac9b1a"
  },
  {
   "cell_type": "code",
   "execution_count": 265,
   "outputs": [],
   "source": [
    "recall_gpt_4o_OMI_none = [0.25, 0, 0, 0.28]\n",
    "recall_gpt_4o_OMI_defence = [0.4, 0, 0, 0.26]\n",
    "recall_gpt_4o_GHI_none = [0, 0, 0, 0]\n",
    "recall_gpt_4o_GHI_defence = [0.54, 0, 0, 0.25]\n"
   ],
   "metadata": {
    "collapsed": false,
    "ExecuteTime": {
     "end_time": "2024-08-06T00:42:56.454286300Z",
     "start_time": "2024-08-06T00:42:56.450189900Z"
    }
   },
   "id": "eae1f222dcc449f3"
  },
  {
   "cell_type": "code",
   "execution_count": 266,
   "outputs": [],
   "source": [
    "gpt_4o_recall = {\n",
    "    \"attack rate\": [0.3, 0.5, 0.7, 1,\n",
    "                    0.3, 0.5, 0.7, 1,\n",
    "                    0.3, 0.5, 0.7, 1,\n",
    "                    0.3, 0.5, 0.7, 1\n",
    "                    ],\n",
    "    \"recall\": [0.25, 0.33, 0.19, 0.24,    \n",
    "                0.4, 0.31, 0.21, 0.33,\n",
    "                0, 0, 0, 0,\n",
    "                0.54, 0.13, 0.37, 0.32\n",
    "                  ],\n",
    "    \"attack type\": [\"OMI\",\"OMI\",\"OMI\",\"OMI\", \n",
    "                    \"OMI\",\"OMI\",\"OMI\",\"OMI\",\n",
    "                    \"GHI\",\"GHI\",\"GHI\",\"GHI\",\n",
    "                    \"GHI\",\"GHI\",\"GHI\",\"GHI\",\n",
    "                    ],\n",
    "    \"defence\": [\"No Defence\",\"No Defence\",\"No Defence\",\"No Defence\",\n",
    "                \"Defence Applied\",\"Defence Applied\",\"Defence Applied\",\"Defence Applied\",\n",
    "                \"No Defence\",\"No Defence\",\"No Defence\",\"No Defence\",\n",
    "                \"Defence Applied\",\"Defence Applied\",\"Defence Applied\",\"Defence Applied\",\n",
    "                ],\n",
    "    \n",
    "}"
   ],
   "metadata": {
    "collapsed": false,
    "ExecuteTime": {
     "end_time": "2024-08-06T00:42:56.503155900Z",
     "start_time": "2024-08-06T00:42:56.459226700Z"
    }
   },
   "id": "46e73e96ae0e609e"
  },
  {
   "cell_type": "code",
   "execution_count": 267,
   "outputs": [
    {
     "name": "stderr",
     "output_type": "stream",
     "text": [
      "/home/moebuta/projects/eyesimLLM/venv/lib/python3.9/site-packages/seaborn/axisgrid.py:718: UserWarning: Using the barplot function without specifying `order` is likely to produce an incorrect plot.\n",
      "  warnings.warn(warning)\n",
      "/home/moebuta/projects/eyesimLLM/venv/lib/python3.9/site-packages/seaborn/axisgrid.py:723: UserWarning: Using the barplot function without specifying `hue_order` is likely to produce an incorrect plot.\n",
      "  warnings.warn(warning)\n",
      "/home/moebuta/projects/eyesimLLM/venv/lib/python3.9/site-packages/seaborn/axisgrid.py:854: FutureWarning: \n",
      "\n",
      "Setting a gradient palette using color= is deprecated and will be removed in v0.14.0. Set `palette='dark:#4c72b0'` for the same effect.\n",
      "\n",
      "  func(*plot_args, **plot_kwargs)\n",
      "/home/moebuta/projects/eyesimLLM/venv/lib/python3.9/site-packages/seaborn/axisgrid.py:854: FutureWarning: \n",
      "\n",
      "Setting a gradient palette using color= is deprecated and will be removed in v0.14.0. Set `palette='dark:#4c72b0'` for the same effect.\n",
      "\n",
      "  func(*plot_args, **plot_kwargs)\n"
     ]
    },
    {
     "data": {
      "text/plain": "<Figure size 432x216 with 2 Axes>",
      "image/png": "[encoded data removed]"
     },
     "metadata": {},
     "output_type": "display_data"
    }
   ],
   "source": [
    "df = pd.DataFrame(gpt_4o_recall)\n",
    "g = sns.FacetGrid(df, col='attack type', \n",
    "                  # hue='attack type', \n",
    "                  margin_titles=True)\n",
    "g.map(sns.barplot, 'attack rate', 'recall', 'defence')\n",
    "# g.add_legend()\n",
    "plt.subplots_adjust(bottom=0.35)\n",
    "plt.savefig(f\"{EXP_DIR}/recall.png\", bbox_inches='tight')\n",
    "plt.show()"
   ],
   "metadata": {
    "collapsed": false,
    "ExecuteTime": {
     "end_time": "2024-08-06T00:42:57.147100200Z",
     "start_time": "2024-08-06T00:42:56.487545800Z"
    }
   },
   "id": "5a7904ca84bda3d5"
  },
  {
   "cell_type": "code",
   "execution_count": 268,
   "outputs": [],
   "source": [
    "f1_gpt_4o_OMI_none = [0.35, 0, 0, 0.41]\n",
    "f1_gpt_4o_OMI_defence = [0.55, 0, 0, 0.37]\n",
    "f1_gpt_4o_GHI_none = [0, 0, 0, 0]\n",
    "f1_gpt_4o_GHI_defence = [0.65, 0, 0, 0.39]"
   ],
   "metadata": {
    "collapsed": false,
    "ExecuteTime": {
     "end_time": "2024-08-06T00:42:57.147759300Z",
     "start_time": "2024-08-06T00:42:57.142706800Z"
    }
   },
   "id": "fbf2794f643820a7"
  },
  {
   "cell_type": "code",
   "execution_count": 269,
   "outputs": [],
   "source": [
    "gpt_4o_f1 = {\n",
    "    \"attack rate\": [0.3, 0.5, 0.7, 1,\n",
    "                    0.3, 0.5, 0.7, 1,\n",
    "                    0.3, 0.5, 0.7, 1,\n",
    "                    0.3, 0.5, 0.7, 1\n",
    "                    ],\n",
    "    \"f1\": [0.35, 0.46, 0.3, 0.39,  \n",
    "               0.55, 0.46, 0.33, 0.47,\n",
    "                  0, 0, 0, 0,\n",
    "               0.65, 0.21 , 0.52, 0.46\n",
    "                  ],\n",
    "    \"attack type\": [\"OMI\",\"OMI\",\"OMI\",\"OMI\", \n",
    "                    \"OMI\",\"OMI\",\"OMI\",\"OMI\",\n",
    "                    \"GHI\",\"GHI\",\"GHI\",\"GHI\",\n",
    "                    \"GHI\",\"GHI\",\"GHI\",\"GHI\",\n",
    "                    ],\n",
    "    \"defence\": [\"No Defence\",\"No Defence\",\"No Defence\",\"No Defence\",\n",
    "                \"Defence Applied\",\"Defence Applied\",\"Defence Applied\",\"Defence Applied\",\n",
    "                \"No Defence\",\"No Defence\",\"No Defence\",\"No Defence\",\n",
    "                \"Defence Applied\",\"Defence Applied\",\"Defence Applied\",\"Defence Applied\",               \n",
    "                ],\n",
    "    \n",
    "    \n",
    "}"
   ],
   "metadata": {
    "collapsed": false,
    "ExecuteTime": {
     "end_time": "2024-08-06T00:42:57.205512400Z",
     "start_time": "2024-08-06T00:42:57.149978100Z"
    }
   },
   "id": "2f7a4ffbb4116b6c"
  },
  {
   "cell_type": "code",
   "execution_count": 270,
   "outputs": [
    {
     "name": "stderr",
     "output_type": "stream",
     "text": [
      "/home/moebuta/projects/eyesimLLM/venv/lib/python3.9/site-packages/seaborn/axisgrid.py:718: UserWarning: Using the barplot function without specifying `order` is likely to produce an incorrect plot.\n",
      "  warnings.warn(warning)\n",
      "/home/moebuta/projects/eyesimLLM/venv/lib/python3.9/site-packages/seaborn/axisgrid.py:723: UserWarning: Using the barplot function without specifying `hue_order` is likely to produce an incorrect plot.\n",
      "  warnings.warn(warning)\n",
      "/home/moebuta/projects/eyesimLLM/venv/lib/python3.9/site-packages/seaborn/axisgrid.py:854: FutureWarning: \n",
      "\n",
      "Setting a gradient palette using color= is deprecated and will be removed in v0.14.0. Set `palette='dark:#4c72b0'` for the same effect.\n",
      "\n",
      "  func(*plot_args, **plot_kwargs)\n",
      "/home/moebuta/projects/eyesimLLM/venv/lib/python3.9/site-packages/seaborn/axisgrid.py:854: FutureWarning: \n",
      "\n",
      "Setting a gradient palette using color= is deprecated and will be removed in v0.14.0. Set `palette='dark:#4c72b0'` for the same effect.\n",
      "\n",
      "  func(*plot_args, **plot_kwargs)\n"
     ]
    },
    {
     "data": {
      "text/plain": "<Figure size 432x216 with 2 Axes>",
      "image/png": "[encoded data removed]"
     },
     "metadata": {},
     "output_type": "display_data"
    }
   ],
   "source": [
    "df = pd.DataFrame(gpt_4o_f1)\n",
    "g.fig.set_size_inches(10, 6)\n",
    "g = sns.FacetGrid(df, col='attack type', \n",
    "                  # hue='attack type', \n",
    "                  margin_titles=True)\n",
    "g.map(sns.barplot, 'attack rate', 'f1', 'defence')\n",
    "# g.add_legend()\n",
    "# for ax in g.axes.flat:\n",
    "#     handles, labels = ax.get_legend_handles_labels()\n",
    "#     if handles:\n",
    "#         g.fig.legend(handles=handles, labels=labels, loc='lower center', ncol=len(labels))\n",
    "#         break\n",
    "# plt.subplots_adjust(bottom=0.35)\n",
    "handles, labels = g.axes[0, 0].get_legend_handles_labels()\n",
    "g.fig.legend(handles=handles, labels=labels, loc='upper center', bbox_to_anchor=(0.55, 0.05), ncol=len(labels))\n",
    "\n",
    "plt.savefig(f\"{EXP_DIR}/f1.png\", bbox_inches='tight')\n",
    "plt.show()"
   ],
   "metadata": {
    "collapsed": false,
    "ExecuteTime": {
     "end_time": "2024-08-06T00:42:57.852292300Z",
     "start_time": "2024-08-06T00:42:57.177231900Z"
    }
   },
   "id": "747fb2c710c06d83"
  },
  {
   "cell_type": "code",
   "execution_count": 270,
   "outputs": [],
   "source": [
    "\n"
   ],
   "metadata": {
    "collapsed": false,
    "ExecuteTime": {
     "end_time": "2024-08-06T00:42:57.863283400Z",
     "start_time": "2024-08-06T00:42:57.849007600Z"
    }
   },
   "id": "462ee8c0594d1846"
  },
  {
   "cell_type": "code",
   "execution_count": 271,
   "outputs": [],
   "source": [
    "MOER = {\n",
    "    \"attack rate\": [0, 0.3, 0.5, 0.7, 1,\n",
    "                    0, 0.3, 0.5, 0.7, 1,\n",
    "                    0, 0.3, 0.5, 0.7, 1,\n",
    "                    0, 0.3, 0.5, 0.7, 1\n",
    "                    ],\n",
    "    \"MOER\": [0.5, 0.17, 0.13, 0.25, 0.26, \n",
    "               0.5, 0.48, 0.29, 0.4,0.67,\n",
    "                  0.5, 0.16, 0.14, 0.1, 0.13,\n",
    "               0.5, 0.33, 0.48, 0.132, 0.14\n",
    "                  ],\n",
    "    \"attack type\": [\"OMI\",\"OMI\",\"OMI\",\"OMI\", \"OMI\", \n",
    "                    \"OMI\",\"OMI\",\"OMI\",\"OMI\",\"OMI\", \n",
    "                    \"GHI\",\"GHI\",\"GHI\",\"GHI\",\"GHI\",\n",
    "                    \"GHI\",\"GHI\",\"GHI\",\"GHI\",\"GHI\",\n",
    "                    ],\n",
    "    \"defence\": [\"No Defence\",\"No Defence\",\"No Defence\",\"No Defence\",\"No Defence\",\n",
    "                \"Defence Applied\",\"Defence Applied\",\"Defence Applied\",\"Defence Applied\",\"Defence Applied\",\n",
    "                \"No Defence\",\"No Defence\",\"No Defence\",\"No Defence\",\"No Defence\",\n",
    "                \"Defence Applied\",\"Defence Applied\",\"Defence Applied\",\"Defence Applied\", \"Defence Applied\",             \n",
    "                ],\n",
    "}"
   ],
   "metadata": {
    "collapsed": false,
    "ExecuteTime": {
     "end_time": "2024-08-06T00:42:57.864285Z",
     "start_time": "2024-08-06T00:42:57.856303400Z"
    }
   },
   "id": "f5a6e40a0df9d70a"
  },
  {
   "cell_type": "code",
   "execution_count": 272,
   "outputs": [
    {
     "name": "stderr",
     "output_type": "stream",
     "text": [
      "/home/moebuta/projects/eyesimLLM/venv/lib/python3.9/site-packages/seaborn/axisgrid.py:718: UserWarning: Using the barplot function without specifying `order` is likely to produce an incorrect plot.\n",
      "  warnings.warn(warning)\n",
      "/home/moebuta/projects/eyesimLLM/venv/lib/python3.9/site-packages/seaborn/axisgrid.py:723: UserWarning: Using the barplot function without specifying `hue_order` is likely to produce an incorrect plot.\n",
      "  warnings.warn(warning)\n",
      "/home/moebuta/projects/eyesimLLM/venv/lib/python3.9/site-packages/seaborn/axisgrid.py:854: FutureWarning: \n",
      "\n",
      "Setting a gradient palette using color= is deprecated and will be removed in v0.14.0. Set `palette='dark:#4c72b0'` for the same effect.\n",
      "\n",
      "  func(*plot_args, **plot_kwargs)\n",
      "/home/moebuta/projects/eyesimLLM/venv/lib/python3.9/site-packages/seaborn/axisgrid.py:854: FutureWarning: \n",
      "\n",
      "Setting a gradient palette using color= is deprecated and will be removed in v0.14.0. Set `palette='dark:#4c72b0'` for the same effect.\n",
      "\n",
      "  func(*plot_args, **plot_kwargs)\n"
     ]
    },
    {
     "data": {
      "text/plain": "<Figure size 432x216 with 2 Axes>",
      "image/png": "[encoded data removed]"
     },
     "metadata": {},
     "output_type": "display_data"
    }
   ],
   "source": [
    "df = pd.DataFrame(MOER)\n",
    "g = sns.FacetGrid(df, col='attack type', \n",
    "                  # hue='attack type', \n",
    "                  margin_titles=True)\n",
    "g.map(sns.barplot, 'attack rate', 'MOER', 'defence')\n",
    "# g.add_legend()\n",
    "plt.subplots_adjust(bottom=0.35)\n",
    "plt.savefig(f\"{EXP_DIR}/moer.png\", bbox_inches='tight')\n",
    "plt.show()"
   ],
   "metadata": {
    "collapsed": false,
    "ExecuteTime": {
     "end_time": "2024-08-06T00:42:58.586846500Z",
     "start_time": "2024-08-06T00:42:57.863283400Z"
    }
   },
   "id": "34af4564f9cc3944"
  },
  {
   "cell_type": "code",
   "execution_count": 273,
   "outputs": [],
   "source": [
    "token = {\n",
    "    \"attack rate\": [0, 0.3, 0.5, 0.7, 1,\n",
    "                    0, 0.3, 0.5, 0.7, 1,\n",
    "                    0, 0.3, 0.5, 0.7, 1,\n",
    "                    0, 0.3, 0.5, 0.7, 1\n",
    "                    ],\n",
    "    \"token\": [1204, 1198, 1194, 1162, 1154, \n",
    "            1204, 1230, 1211, 1216,1207,\n",
    "            1204, 1203, 1204, 1186, 1188,\n",
    "            1204, 1219, 1225, 1222, 1206\n",
    "                  ],\n",
    "    \"attack type\": [\"OMI\",\"OMI\",\"OMI\",\"OMI\", \"OMI\", \n",
    "                    \"OMI\",\"OMI\",\"OMI\",\"OMI\",\"OMI\", \n",
    "                    \"GHI\",\"GHI\",\"GHI\",\"GHI\",\"GHI\",\n",
    "                    \"GHI\",\"GHI\",\"GHI\",\"GHI\",\"GHI\",\n",
    "                    ],\n",
    "    \"defence\": [\"No Defence\",\"No Defence\",\"No Defence\",\"No Defence\",\"No Defence\",\n",
    "                \"Defence Applied\",\"Defence Applied\",\"Defence Applied\",\"Defence Applied\",\"Defence Applied\",\n",
    "                \"No Defence\",\"No Defence\",\"No Defence\",\"No Defence\",\"No Defence\",\n",
    "                \"Defence Applied\",\"Defence Applied\",\"Defence Applied\",\"Defence Applied\", \"Defence Applied\",             \n",
    "                ],\n",
    "}"
   ],
   "metadata": {
    "collapsed": false,
    "ExecuteTime": {
     "end_time": "2024-08-06T00:42:58.593900Z",
     "start_time": "2024-08-06T00:42:58.586846500Z"
    }
   },
   "id": "cd34cc39052794a8"
  },
  {
   "cell_type": "code",
   "execution_count": 274,
   "outputs": [
    {
     "name": "stderr",
     "output_type": "stream",
     "text": [
      "/home/moebuta/projects/eyesimLLM/venv/lib/python3.9/site-packages/seaborn/axisgrid.py:718: UserWarning: Using the barplot function without specifying `order` is likely to produce an incorrect plot.\n",
      "  warnings.warn(warning)\n",
      "/home/moebuta/projects/eyesimLLM/venv/lib/python3.9/site-packages/seaborn/axisgrid.py:723: UserWarning: Using the barplot function without specifying `hue_order` is likely to produce an incorrect plot.\n",
      "  warnings.warn(warning)\n",
      "/home/moebuta/projects/eyesimLLM/venv/lib/python3.9/site-packages/seaborn/axisgrid.py:854: FutureWarning: \n",
      "\n",
      "Setting a gradient palette using color= is deprecated and will be removed in v0.14.0. Set `palette='dark:#4c72b0'` for the same effect.\n",
      "\n",
      "  func(*plot_args, **plot_kwargs)\n",
      "/home/moebuta/projects/eyesimLLM/venv/lib/python3.9/site-packages/seaborn/axisgrid.py:854: FutureWarning: \n",
      "\n",
      "Setting a gradient palette using color= is deprecated and will be removed in v0.14.0. Set `palette='dark:#4c72b0'` for the same effect.\n",
      "\n",
      "  func(*plot_args, **plot_kwargs)\n"
     ]
    },
    {
     "data": {
      "text/plain": "<Figure size 432x216 with 2 Axes>",
      "image/png": "[encoded data removed]"
     },
     "metadata": {},
     "output_type": "display_data"
    }
   ],
   "source": [
    "df = pd.DataFrame(token)\n",
    "g = sns.FacetGrid(df, col='attack type', \n",
    "                  # hue='attack type', \n",
    "                  margin_titles=True)\n",
    "g.map(sns.barplot, 'attack rate', 'token', 'defence')\n",
    "# g.add_legend()\n",
    "plt.subplots_adjust(bottom=0.35)\n",
    "plt.savefig(f\"{EXP_DIR}/token.png\", bbox_inches='tight')\n",
    "plt.show()"
   ],
   "metadata": {
    "collapsed": false,
    "ExecuteTime": {
     "end_time": "2024-08-06T00:43:00.266241Z",
     "start_time": "2024-08-06T00:42:58.592863200Z"
    }
   },
   "id": "e13c6e2813f5cee9"
  },
  {
   "cell_type": "code",
   "execution_count": 275,
   "outputs": [],
   "source": [
    "response_time = {\n",
    "    \"attack rate\": [0, 0.3, 0.5, 0.7, 1,\n",
    "                    0, 0.3, 0.5, 0.7, 1,\n",
    "                    0, 0.3, 0.5, 0.7, 1,\n",
    "                    0, 0.3, 0.5, 0.7, 1\n",
    "                    ],\n",
    "    \"response time\": [4.7, 4.5, 6.7, 5.7, 5.3, \n",
    "               4.7, 5.6, 6.4, 6.5,7.1,\n",
    "                  4.7, 5.2, 5.7, 5.7, 5.5,\n",
    "               4.7, 4.8, 9.3, 6.1, 7.5\n",
    "                  ],\n",
    "    \"attack type\": [\"OMI\",\"OMI\",\"OMI\",\"OMI\", \"OMI\", \n",
    "                    \"OMI\",\"OMI\",\"OMI\",\"OMI\",\"OMI\", \n",
    "                    \"GHI\",\"GHI\",\"GHI\",\"GHI\",\"GHI\",\n",
    "                    \"GHI\",\"GHI\",\"GHI\",\"GHI\",\"GHI\",\n",
    "                    ],\n",
    "    \"defence\": [\"No Defence\",\"No Defence\",\"No Defence\",\"No Defence\",\"No Defence\",\n",
    "                \"Defence Applied\",\"Defence Applied\",\"Defence Applied\",\"Defence Applied\",\"Defence Applied\",\n",
    "                \"No Defence\",\"No Defence\",\"No Defence\",\"No Defence\",\"No Defence\",\n",
    "                \"Defence Applied\",\"Defence Applied\",\"Defence Applied\",\"Defence Applied\", \"Defence Applied\",             \n",
    "                ],\n",
    "}"
   ],
   "metadata": {
    "collapsed": false,
    "ExecuteTime": {
     "end_time": "2024-08-06T00:43:00.281902Z",
     "start_time": "2024-08-06T00:43:00.264232500Z"
    }
   },
   "id": "35a922b529d413d1"
  },
  {
   "cell_type": "code",
   "execution_count": 276,
   "outputs": [
    {
     "name": "stderr",
     "output_type": "stream",
     "text": [
      "/home/moebuta/projects/eyesimLLM/venv/lib/python3.9/site-packages/seaborn/axisgrid.py:718: UserWarning: Using the barplot function without specifying `order` is likely to produce an incorrect plot.\n",
      "  warnings.warn(warning)\n",
      "/home/moebuta/projects/eyesimLLM/venv/lib/python3.9/site-packages/seaborn/axisgrid.py:723: UserWarning: Using the barplot function without specifying `hue_order` is likely to produce an incorrect plot.\n",
      "  warnings.warn(warning)\n",
      "/home/moebuta/projects/eyesimLLM/venv/lib/python3.9/site-packages/seaborn/axisgrid.py:854: FutureWarning: \n",
      "\n",
      "Setting a gradient palette using color= is deprecated and will be removed in v0.14.0. Set `palette='dark:#4c72b0'` for the same effect.\n",
      "\n",
      "  func(*plot_args, **plot_kwargs)\n",
      "/home/moebuta/projects/eyesimLLM/venv/lib/python3.9/site-packages/seaborn/axisgrid.py:854: FutureWarning: \n",
      "\n",
      "Setting a gradient palette using color= is deprecated and will be removed in v0.14.0. Set `palette='dark:#4c72b0'` for the same effect.\n",
      "\n",
      "  func(*plot_args, **plot_kwargs)\n"
     ]
    },
    {
     "data": {
      "text/plain": "<Figure size 432x216 with 2 Axes>",
      "image/png": "[encoded data removed]"
     },
     "metadata": {},
     "output_type": "display_data"
    }
   ],
   "source": [
    "df = pd.DataFrame(response_time)\n",
    "g = sns.FacetGrid(df, col='attack type', \n",
    "                  # hue='attack type', \n",
    "                  margin_titles=True)\n",
    "g.map(sns.barplot, 'attack rate', 'response time', 'defence')\n",
    "# g.add_legend()\n",
    "# for ax in g.axes.flat:\n",
    "#     handles, labels = ax.get_legend_handles_labels()\n",
    "#     if handles:\n",
    "#         g.fig.legend(handles=handles, labels=labels, loc='lower center', ncol=len(labels))\n",
    "#         break\n",
    "\n",
    "# Adjust layout to make space for the legend\n",
    "# plt.subplots_adjust(bottom=0.35)\n",
    "handles, labels = g.axes[0, 0].get_legend_handles_labels()\n",
    "g.fig.legend(handles=handles, labels=labels, loc='upper center', bbox_to_anchor=(0.55, 0.05), ncol=len(labels))\n",
    "plt.savefig(f\"{EXP_DIR}/response_time.png\", bbox_inches='tight')\n",
    "plt.show()"
   ],
   "metadata": {
    "collapsed": false,
    "ExecuteTime": {
     "end_time": "2024-08-06T00:43:01.231908800Z",
     "start_time": "2024-08-06T00:43:00.272328Z"
    }
   },
   "id": "4210495b8a49fbb5"
  },
  {
   "cell_type": "code",
   "execution_count": 282,
   "outputs": [
    {
     "name": "stdout",
     "output_type": "stream",
     "text": [
      "WPI: 0.519\n",
      "WRI: 0.2808762360446571\n",
      "WFI: 0.31411135531135526\n",
      "WMI: 0.998665061409179\n",
      "WTU: 0.028539995229816442\n",
      "WRT: 0.23885705008751149\n",
      "OADI: 0.3713291971186708\n",
      "OPI: 0.24375600536395037\n",
      "GI: 0.3075426012413106\n"
     ]
    }
   ],
   "source": [
    "# Define the attack rates\n",
    "attack_rates = [0.0, 0.3, 0.5, 0.7, 1.0]\n",
    "\n",
    "# Define improvements for each metric\n",
    "# Precision improvements\n",
    "precision_omi_no_defence = [0.6, 0.8, 0.8, 1.0]\n",
    "precision_omi_defence = [1.0, 1.0, 0.8, 1.0]\n",
    "precision_ghi_no_defence = [0.0, 0.0, 0.0, 0.0]\n",
    "precision_ghi_defence = [0.9, 0.6, 1.0, 1.0]\n",
    "\n",
    "# Recall improvements\n",
    "recall_omi_no_defence = [0.25, 0.33, 0.19, 0.24]\n",
    "recall_omi_defence = [0.4, 0.31, 0.21, 0.33]\n",
    "recall_ghi_no_defence = [0.0, 0.0, 0.0, 0.0]\n",
    "recall_ghi_defence = [0.54, 0.13, 0.37, 0.32]\n",
    "\n",
    "# F1-score improvements\n",
    "f1_omi_no_defence = [0.35, 0.46, 0.3, 0.39]\n",
    "f1_omi_defence = [0.55, 0.46, 0.33, 0.47]\n",
    "f1_ghi_no_defence = [0.0, 0.0, 0.0, 0.0]\n",
    "f1_ghi_defence = [0.65, 0.21, 0.52, 0.46]\n",
    "\n",
    "# MOER improvements\n",
    "moer_omi_no_defence = [0.5, 0.17, 0.13, 0.25, 0.26]\n",
    "moer_omi_defence = [0.5, 0.48, 0.29, 0.4, 0.67]\n",
    "moer_ghi_no_defence = [0.5, 0.16, 0.14, 0.1, 0.13]\n",
    "moer_ghi_defence = [0.5, 0.33, 0.48, 0.132, 0.14]\n",
    "\n",
    "# Token usage increase\n",
    "token_omi_no_defence = [1204, 1198, 1194, 1162, 1154]\n",
    "token_omi_defence = [1204, 1230, 1211, 1216, 1207]\n",
    "token_ghi_no_defence = [1204, 1203, 1204, 1186, 1188]\n",
    "token_ghi_defence = [1204, 1219, 1225, 1222, 1206]\n",
    "\n",
    "# Response time increase\n",
    "response_time_omi_no_defence = [4.7, 4.5, 6.7, 5.7, 5.3]\n",
    "response_time_omi_defence = [4.7, 5.6, 6.4, 6.5, 7.1]\n",
    "response_time_ghi_no_defence = [4.7, 5.2, 5.7, 5.7, 5.5]\n",
    "response_time_ghi_defence = [4.7, 4.8, 9.3, 6.1, 7.5]\n",
    "\n",
    "# Calculate weighted improvements for precision, recall, and F1-score\n",
    "weighted_precision_omi = sum((d - n) / n * ar for d, n, ar in zip(precision_omi_defence, precision_omi_no_defence, attack_rates[1:])) / sum(attack_rates[1:])\n",
    "\n",
    "\n",
    "\n",
    "weighted_precision_ghi = sum((d - n) / 1 * ar for d, n, ar in zip(precision_ghi_defence, precision_ghi_no_defence, attack_rates[1:])) / sum(attack_rates[1:])\n",
    "\n",
    "wpi = (weighted_precision_omi + weighted_precision_ghi) / 2\n",
    "print(f\"WPI: {wpi}\")\n",
    "\n",
    "\n",
    "weighted_recall_omi = sum((d - n) / n * ar for d, n, ar in zip(recall_omi_defence, recall_omi_no_defence, attack_rates[1:])) / sum(attack_rates[1:])\n",
    "weighted_recall_ghi = sum((d - n) / 1 * ar for d, n, ar in zip(recall_ghi_defence, recall_ghi_no_defence, attack_rates[1:])) / sum(attack_rates[1:])\n",
    "\n",
    "wri = (weighted_recall_omi + weighted_recall_ghi) / 2\n",
    "print(f\"WRI: {wri}\")\n",
    "\n",
    "\n",
    "weighted_f1_omi = sum((d - n) / n * ar for d, n, ar in zip(f1_omi_defence, f1_omi_no_defence, attack_rates[1:])) / sum(attack_rates[1:])\n",
    "weighted_f1_ghi = sum((d - n) / 1 * ar for d, n, ar in zip(f1_ghi_defence, f1_ghi_no_defence, attack_rates[1:])) / sum(attack_rates[1:])\n",
    "\n",
    "wfi = (weighted_f1_omi + weighted_f1_ghi) / 2\n",
    "print(f\"WFI: {wfi}\")\n",
    "\n",
    "# Calculate weighted improvements for MOER, token usage, and response time\n",
    "weighted_moer_omi = sum((d - n) / n * ar for d, n, ar in zip(moer_omi_defence, moer_omi_no_defence, attack_rates)) / sum(attack_rates)\n",
    "weighted_moer_ghi = sum((d - n) / n * ar for d, n, ar in zip(moer_ghi_defence, moer_ghi_no_defence, attack_rates)) / sum(attack_rates)\n",
    "\n",
    "wmi = (weighted_moer_omi + weighted_moer_ghi) / 2\n",
    "print(f\"WMI: {wmi}\")\n",
    "\n",
    "weighted_token_omi = sum((d - n) / n * ar for d, n, ar in zip(token_omi_defence, token_omi_no_defence, attack_rates)) / sum(attack_rates)\n",
    "weighted_token_ghi = sum((d - n) / n * ar for d, n, ar in zip(token_ghi_defence, token_ghi_no_defence, attack_rates)) / sum(attack_rates)\n",
    "\n",
    "wtu = (weighted_token_omi + weighted_token_ghi) / 2\n",
    "print(f\"WTU: {wtu}\")\n",
    "\n",
    "\n",
    "weighted_response_time_omi = sum((d - n) / n * ar for d, n, ar in zip(response_time_omi_defence, response_time_omi_no_defence, attack_rates)) / sum(attack_rates)\n",
    "weighted_response_time_ghi = sum((d - n) / n * ar for d, n, ar in zip(response_time_ghi_defence, response_time_ghi_no_defence, attack_rates)) / sum(attack_rates)\n",
    "\n",
    "wrt = (weighted_response_time_omi + weighted_response_time_ghi) / 2\n",
    "print(f\"WRT: {wrt}\")\n",
    "\n",
    "\n",
    "# Calculate overall attack detection improvement\n",
    "overall_attack_detection_improvement = (weighted_precision_omi + weighted_precision_ghi + weighted_recall_omi + weighted_recall_ghi + weighted_f1_omi + weighted_f1_ghi) / 6\n",
    "\n",
    "print(f\"OADI: {overall_attack_detection_improvement}\")\n",
    "\n",
    "\n",
    "# Calculate overall performance improvement\n",
    "overall_performance_improvement = (weighted_moer_omi + weighted_moer_ghi - weighted_token_omi - weighted_token_ghi - weighted_response_time_omi - weighted_response_time_ghi) / 6\n",
    "\n",
    "print(f\"OPI: {overall_performance_improvement}\")\n",
    "\n",
    "\n",
    "\n",
    "# Calculate the general value considering both attack detection and performance improvements\n",
    "general_improvement = (overall_attack_detection_improvement + overall_performance_improvement) / 2\n",
    "print(f\"GI: {general_improvement}\")"
   ],
   "metadata": {
    "collapsed": false,
    "ExecuteTime": {
     "end_time": "2024-08-06T01:23:09.553107800Z",
     "start_time": "2024-08-06T01:23:09.483363700Z"
    }
   },
   "id": "bf6dbf39d8e8e3c8"
  },
  {
   "cell_type": "code",
   "execution_count": null,
   "outputs": [],
   "source": [],
   "metadata": {
    "collapsed": false
   },
   "id": "e7ec0ee547d2a189"
  },
  {
   "cell_type": "code",
   "execution_count": null,
   "outputs": [],
   "source": [],
   "metadata": {
    "collapsed": false
   },
   "id": "35a34d42ccffbdac"
  }
 ],
 "metadata": {
  "kernelspec": {
   "display_name": "Python 3",
   "language": "python",
   "name": "python3"
  },
  "language_info": {
   "codemirror_mode": {
    "name": "ipython",
    "version": 2
   },
   "file_extension": ".py",
   "mimetype": "text/x-python",
   "name": "python",
   "nbconvert_exporter": "python",
   "pygments_lexer": "ipython2",
   "version": "2.7.6"
  }
 },
 "nbformat": 4,
 "nbformat_minor": 5
}
